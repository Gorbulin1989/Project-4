{
  "cells": [
    {
      "cell_type": "code",
      "execution_count": 27,
      "metadata": {
        "id": "PyM3WrxShhU8",
        "colab": {
          "base_uri": "https://localhost:8080/"
        },
        "outputId": "993263a5-9b41-4e4f-dd6a-9336a47ca605"
      },
      "outputs": [
        {
          "output_type": "stream",
          "name": "stdout",
          "text": [
            "Looking in indexes: https://pypi.org/simple, https://us-python.pkg.dev/colab-wheels/public/simple/\n",
            "Requirement already satisfied: sklearn in /usr/local/lib/python3.10/dist-packages (0.0.post5)\n",
            "Looking in indexes: https://pypi.org/simple, https://us-python.pkg.dev/colab-wheels/public/simple/\n",
            "Requirement already satisfied: keras_tuner in /usr/local/lib/python3.10/dist-packages (1.3.5)\n",
            "Requirement already satisfied: packaging in /usr/local/lib/python3.10/dist-packages (from keras_tuner) (23.1)\n",
            "Requirement already satisfied: requests in /usr/local/lib/python3.10/dist-packages (from keras_tuner) (2.27.1)\n",
            "Requirement already satisfied: kt-legacy in /usr/local/lib/python3.10/dist-packages (from keras_tuner) (1.0.5)\n",
            "Requirement already satisfied: urllib3<1.27,>=1.21.1 in /usr/local/lib/python3.10/dist-packages (from requests->keras_tuner) (1.26.15)\n",
            "Requirement already satisfied: certifi>=2017.4.17 in /usr/local/lib/python3.10/dist-packages (from requests->keras_tuner) (2022.12.7)\n",
            "Requirement already satisfied: charset-normalizer~=2.0.0 in /usr/local/lib/python3.10/dist-packages (from requests->keras_tuner) (2.0.12)\n",
            "Requirement already satisfied: idna<4,>=2.5 in /usr/local/lib/python3.10/dist-packages (from requests->keras_tuner) (3.4)\n"
          ]
        }
      ],
      "source": [
        "#import dependencies\n",
        "import pandas as pd\n",
        "import numpy as np\n",
        "import statsmodels.api as sm\n",
        "import scipy.stats as st\n",
        "import matplotlib.pyplot as plt\n",
        "import seaborn as sn\n",
        "!pip install sklearn\n",
        "from sklearn.metrics import confusion_matrix\n",
        "import matplotlib.mlab as mlab\n",
        "from sklearn.preprocessing import StandardScaler\n",
        "from sklearn.model_selection import train_test_split\n",
        "from sklearn.metrics import accuracy_score\n",
        "from sklearn.model_selection import cross_val_score\n",
        "from sklearn.neighbors import KNeighborsClassifier\n",
        "from sklearn.linear_model import LogisticRegression\n",
        "from sklearn.tree import DecisionTreeClassifier\n",
        "from sklearn.ensemble import RandomForestClassifier\n",
        "from sklearn.metrics import confusion_matrix\n",
        "from sklearn.metrics import classification_report\n",
        "from sklearn.metrics import balanced_accuracy_score\n",
        "from imblearn.metrics import classification_report_imbalanced\n",
        "from imblearn.over_sampling import RandomOverSampler\n",
        "import tensorflow as tf\n",
        "from tensorflow import keras \n",
        "from tensorflow.keras import Sequential\n",
        "!pip install keras_tuner\n",
        "\n",
        "import keras_tuner as kt\n",
        "%matplotlib inline\n",
        "\n",
        "# Dependencies From Christopher\n",
        "#import hvplot.pandas\n",
        "import random\n",
        "from sklearn.cluster import KMeans\n",
        "from sklearn.decomposition import PCA"
      ]
    },
    {
      "cell_type": "code",
      "execution_count": 118,
      "metadata": {
        "id": "RgJ6gSvThhU-"
      },
      "outputs": [],
      "source": [
        "# Read the CSV file into a Pandas DataFrame\n",
        "cvd_df=pd.read_csv(\"Framingham_clean.csv\")"
      ]
    },
    {
      "cell_type": "code",
      "source": [
        "# Defining the Features\n",
        "X = cvd_df.copy()\n",
        "X.drop(\"TenYearCHD\", axis=1, inplace=True)"
      ],
      "metadata": {
        "id": "Pc1C6UFvhwp0"
      },
      "execution_count": 120,
      "outputs": []
    },
    {
      "cell_type": "code",
      "source": [
        "# Defining target\n",
        "y = cvd_df[\"TenYearCHD\"].ravel()"
      ],
      "metadata": {
        "id": "CCZBe47PlBdR"
      },
      "execution_count": 121,
      "outputs": []
    },
    {
      "cell_type": "code",
      "source": [
        "# Make a DataFrame with random selected data and user input data to make a prediction using the trained model\n",
        "import random\n",
        "smoker_num = 0\n",
        "sex_num = 0\n",
        "\n",
        "smoker = input(\"\\nDo you smoke?\\n\")\n",
        "if smoker.lower() == \"yes\":\n",
        "  smoker_num = 1\n",
        "else:\n",
        "  smoker_num = 0\n",
        "\n",
        "age = input(\"\\nHow old are you?\\n\")\n",
        "\n",
        "sex = input(\"\\nAre you male or female\\n\")\n",
        "if sex == \"male\":\n",
        "  sex_num = 1\n",
        "else:\n",
        "  sex_num = 0\n",
        "\n",
        "cvd_rand_df = [{'Sex_Male': sex_num, \n",
        "               'Age': age,\n",
        "               'Education':random.randint(1,5), \n",
        "               'Current_Smoker':smoker_num, \n",
        "               'Cigarettes_Per_Day':random.randint(0,70),\n",
        "               'Blood_Pressure_Medications':random.randint(0,1),\n",
        "               'Prevalent_Stroke':random.randint(0,1),\n",
        "               'Prevalent_Hypertension':random.randint(0,1),\n",
        "               'Diabetes':random.randint(0,1),\n",
        "               'Total_Cholesterol':random.randint(113,600),\n",
        "               'Systolic_Blood_Pressure':random.randint(83,295),\n",
        "               'Diastolic_Blood_Pressure':random.randint(48,142),\n",
        "               'BMI':random.randint(15,57),\n",
        "               'Heart_Rate':random.randint(44,143),\n",
        "               'Glucose':random.randint(40,394)}]\n",
        "  "
      ],
      "metadata": {
        "id": "iqd_0qqvNZFw",
        "colab": {
          "base_uri": "https://localhost:8080/"
        },
        "outputId": "b964f18f-5af4-4005-bd21-a11907705266"
      },
      "execution_count": 129,
      "outputs": [
        {
          "name": "stdout",
          "output_type": "stream",
          "text": [
            "\n",
            "Do you smoke?\n",
            "no\n",
            "\n",
            "How old are you?\n",
            "66\n",
            "\n",
            "Are you male or female\n",
            "female\n"
          ]
        }
      ]
    },
    {
      "cell_type": "code",
      "source": [
        "cvd_rand_values_df = pd.DataFrame(cvd_rand_df)\n",
        "cvd_rand_values_df.head()"
      ],
      "metadata": {
        "colab": {
          "base_uri": "https://localhost:8080/",
          "height": 144
        },
        "id": "5bhJf__XY86b",
        "outputId": "98f6b229-6dcc-40a4-e7a4-7785b048319f"
      },
      "execution_count": 130,
      "outputs": [
        {
          "output_type": "execute_result",
          "data": {
            "text/plain": [
              "   Sex_Male Age  Education  Current_Smoker  Cigarettes_Per_Day  \\\n",
              "0         0  66          1               0                  69   \n",
              "\n",
              "   Blood_Pressure_Medications  Prevalent_Stroke  Prevalent_Hypertension  \\\n",
              "0                           0                 1                       1   \n",
              "\n",
              "   Diabetes  Total_Cholesterol  Systolic_Blood_Pressure  \\\n",
              "0         0                134                      147   \n",
              "\n",
              "   Diastolic_Blood_Pressure  BMI  Heart_Rate  Glucose  \n",
              "0                        96   27          59      276  "
            ],
            "text/html": [
              "\n",
              "  <div id=\"df-d7185612-d0f9-4e6b-aa85-212916dcdaff\">\n",
              "    <div class=\"colab-df-container\">\n",
              "      <div>\n",
              "<style scoped>\n",
              "    .dataframe tbody tr th:only-of-type {\n",
              "        vertical-align: middle;\n",
              "    }\n",
              "\n",
              "    .dataframe tbody tr th {\n",
              "        vertical-align: top;\n",
              "    }\n",
              "\n",
              "    .dataframe thead th {\n",
              "        text-align: right;\n",
              "    }\n",
              "</style>\n",
              "<table border=\"1\" class=\"dataframe\">\n",
              "  <thead>\n",
              "    <tr style=\"text-align: right;\">\n",
              "      <th></th>\n",
              "      <th>Sex_Male</th>\n",
              "      <th>Age</th>\n",
              "      <th>Education</th>\n",
              "      <th>Current_Smoker</th>\n",
              "      <th>Cigarettes_Per_Day</th>\n",
              "      <th>Blood_Pressure_Medications</th>\n",
              "      <th>Prevalent_Stroke</th>\n",
              "      <th>Prevalent_Hypertension</th>\n",
              "      <th>Diabetes</th>\n",
              "      <th>Total_Cholesterol</th>\n",
              "      <th>Systolic_Blood_Pressure</th>\n",
              "      <th>Diastolic_Blood_Pressure</th>\n",
              "      <th>BMI</th>\n",
              "      <th>Heart_Rate</th>\n",
              "      <th>Glucose</th>\n",
              "    </tr>\n",
              "  </thead>\n",
              "  <tbody>\n",
              "    <tr>\n",
              "      <th>0</th>\n",
              "      <td>0</td>\n",
              "      <td>66</td>\n",
              "      <td>1</td>\n",
              "      <td>0</td>\n",
              "      <td>69</td>\n",
              "      <td>0</td>\n",
              "      <td>1</td>\n",
              "      <td>1</td>\n",
              "      <td>0</td>\n",
              "      <td>134</td>\n",
              "      <td>147</td>\n",
              "      <td>96</td>\n",
              "      <td>27</td>\n",
              "      <td>59</td>\n",
              "      <td>276</td>\n",
              "    </tr>\n",
              "  </tbody>\n",
              "</table>\n",
              "</div>\n",
              "      <button class=\"colab-df-convert\" onclick=\"convertToInteractive('df-d7185612-d0f9-4e6b-aa85-212916dcdaff')\"\n",
              "              title=\"Convert this dataframe to an interactive table.\"\n",
              "              style=\"display:none;\">\n",
              "        \n",
              "  <svg xmlns=\"http://www.w3.org/2000/svg\" height=\"24px\"viewBox=\"0 0 24 24\"\n",
              "       width=\"24px\">\n",
              "    <path d=\"M0 0h24v24H0V0z\" fill=\"none\"/>\n",
              "    <path d=\"M18.56 5.44l.94 2.06.94-2.06 2.06-.94-2.06-.94-.94-2.06-.94 2.06-2.06.94zm-11 1L8.5 8.5l.94-2.06 2.06-.94-2.06-.94L8.5 2.5l-.94 2.06-2.06.94zm10 10l.94 2.06.94-2.06 2.06-.94-2.06-.94-.94-2.06-.94 2.06-2.06.94z\"/><path d=\"M17.41 7.96l-1.37-1.37c-.4-.4-.92-.59-1.43-.59-.52 0-1.04.2-1.43.59L10.3 9.45l-7.72 7.72c-.78.78-.78 2.05 0 2.83L4 21.41c.39.39.9.59 1.41.59.51 0 1.02-.2 1.41-.59l7.78-7.78 2.81-2.81c.8-.78.8-2.07 0-2.86zM5.41 20L4 18.59l7.72-7.72 1.47 1.35L5.41 20z\"/>\n",
              "  </svg>\n",
              "      </button>\n",
              "      \n",
              "  <style>\n",
              "    .colab-df-container {\n",
              "      display:flex;\n",
              "      flex-wrap:wrap;\n",
              "      gap: 12px;\n",
              "    }\n",
              "\n",
              "    .colab-df-convert {\n",
              "      background-color: #E8F0FE;\n",
              "      border: none;\n",
              "      border-radius: 50%;\n",
              "      cursor: pointer;\n",
              "      display: none;\n",
              "      fill: #1967D2;\n",
              "      height: 32px;\n",
              "      padding: 0 0 0 0;\n",
              "      width: 32px;\n",
              "    }\n",
              "\n",
              "    .colab-df-convert:hover {\n",
              "      background-color: #E2EBFA;\n",
              "      box-shadow: 0px 1px 2px rgba(60, 64, 67, 0.3), 0px 1px 3px 1px rgba(60, 64, 67, 0.15);\n",
              "      fill: #174EA6;\n",
              "    }\n",
              "\n",
              "    [theme=dark] .colab-df-convert {\n",
              "      background-color: #3B4455;\n",
              "      fill: #D2E3FC;\n",
              "    }\n",
              "\n",
              "    [theme=dark] .colab-df-convert:hover {\n",
              "      background-color: #434B5C;\n",
              "      box-shadow: 0px 1px 3px 1px rgba(0, 0, 0, 0.15);\n",
              "      filter: drop-shadow(0px 1px 2px rgba(0, 0, 0, 0.3));\n",
              "      fill: #FFFFFF;\n",
              "    }\n",
              "  </style>\n",
              "\n",
              "      <script>\n",
              "        const buttonEl =\n",
              "          document.querySelector('#df-d7185612-d0f9-4e6b-aa85-212916dcdaff button.colab-df-convert');\n",
              "        buttonEl.style.display =\n",
              "          google.colab.kernel.accessAllowed ? 'block' : 'none';\n",
              "\n",
              "        async function convertToInteractive(key) {\n",
              "          const element = document.querySelector('#df-d7185612-d0f9-4e6b-aa85-212916dcdaff');\n",
              "          const dataTable =\n",
              "            await google.colab.kernel.invokeFunction('convertToInteractive',\n",
              "                                                     [key], {});\n",
              "          if (!dataTable) return;\n",
              "\n",
              "          const docLinkHtml = 'Like what you see? Visit the ' +\n",
              "            '<a target=\"_blank\" href=https://colab.research.google.com/notebooks/data_table.ipynb>data table notebook</a>'\n",
              "            + ' to learn more about interactive tables.';\n",
              "          element.innerHTML = '';\n",
              "          dataTable['output_type'] = 'display_data';\n",
              "          await google.colab.output.renderOutput(dataTable, element);\n",
              "          const docLink = document.createElement('div');\n",
              "          docLink.innerHTML = docLinkHtml;\n",
              "          element.appendChild(docLink);\n",
              "        }\n",
              "      </script>\n",
              "    </div>\n",
              "  </div>\n",
              "  "
            ]
          },
          "metadata": {},
          "execution_count": 130
        }
      ]
    },
    {
      "cell_type": "code",
      "source": [
        "# Splitting into Train and Test sets\n",
        "X_train, X_test, y_train, y_test = train_test_split(X, y, random_state=1)\n",
        "\n",
        "# Using StandardScaler() module to normalize the data and Fitting the data\n",
        "X_train_scaled = StandardScaler().fit_transform(X_train)\n",
        "\n",
        "# Scaling and fitting the random and user feed data to predict.\n",
        "X_test_rand_scaled = StandardScaler().fit_transform(cvd_rand_values_df)"
      ],
      "metadata": {
        "id": "lCFcoOhg-RZ4"
      },
      "execution_count": 131,
      "outputs": []
    },
    {
      "cell_type": "markdown",
      "source": [
        "# Predicting with Random Forest Model"
      ],
      "metadata": {
        "id": "itN-hsDkFSyY"
      }
    },
    {
      "cell_type": "code",
      "source": [
        "# Creating a random forest classifier\n",
        "rf_model = RandomForestClassifier(n_estimators=500, random_state=1)\n",
        "# Fitting the model\n",
        "rf_model = rf_model.fit(X_train_scaled, y_train)\n",
        "# Making predictions using the testing data\n",
        "predictions = rf_model.predict(X_test_rand_scaled)\n",
        "print(cvd_rand_values_df)\n",
        "\n",
        "# Printing out if the generated person will get heart disease in 10 years.\n",
        "if predictions == 1:\n",
        "  predict_label = \"will(1)\"\n",
        "else:\n",
        "  predict_label = \"will not (0)\"\n",
        "\n",
        "print(\"\\n\\n The model predicts that this person \" + predict_label + \" develop heart disease\")\n"
      ],
      "metadata": {
        "colab": {
          "base_uri": "https://localhost:8080/"
        },
        "id": "Q1eWLAg4A925",
        "outputId": "b1c7ebc8-f6a2-456b-b8d9-30b29ee5aee9"
      },
      "execution_count": 132,
      "outputs": [
        {
          "output_type": "stream",
          "name": "stdout",
          "text": [
            "   Sex_Male Age  Education  Current_Smoker  Cigarettes_Per_Day  \\\n",
            "0         0  66          1               0                  69   \n",
            "\n",
            "   Blood_Pressure_Medications  Prevalent_Stroke  Prevalent_Hypertension  \\\n",
            "0                           0                 1                       1   \n",
            "\n",
            "   Diabetes  Total_Cholesterol  Systolic_Blood_Pressure  \\\n",
            "0         0                134                      147   \n",
            "\n",
            "   Diastolic_Blood_Pressure  BMI  Heart_Rate  Glucose  \n",
            "0                        96   27          59      276  \n",
            "\n",
            "\n",
            " The model predicts that this person will not (0) develop heart disease\n"
          ]
        }
      ]
    },
    {
      "cell_type": "markdown",
      "source": [
        "# Predicting with NN model"
      ],
      "metadata": {
        "id": "apYPPY94G-_R"
      }
    },
    {
      "cell_type": "code",
      "source": [
        "# Define and fitting to the NN Model\n",
        "nn_model = Sequential()\n",
        "nn_model.add(tf.keras.layers.Dense(units=7, activation=\"tanh\",input_dim=15))\n",
        "nn_model.add(tf.keras.layers.Dense(units=3, activation=\"relu\"))\n",
        "nn_model.add(tf.keras.layers.Dense(units=1, activation=\"sigmoid\"))\n",
        "nn_model.compile(loss=\"binary_crossentropy\", optimizer='adam', metrics=[\"accuracy\"])\n",
        "nn_model.fit(X_train_scaled,y_train,epochs=50, verbose=0)"
      ],
      "metadata": {
        "colab": {
          "base_uri": "https://localhost:8080/"
        },
        "id": "HS7O31VMdziE",
        "outputId": "d525c520-99ff-441d-83d2-de921e950a46"
      },
      "execution_count": 133,
      "outputs": [
        {
          "output_type": "execute_result",
          "data": {
            "text/plain": [
              "<keras.callbacks.History at 0x7f336ecd5ff0>"
            ]
          },
          "metadata": {},
          "execution_count": 133
        }
      ]
    },
    {
      "cell_type": "code",
      "source": [
        "# Making a prediction with the NN model\n",
        "ynew = (nn_model.predict(X_test_rand_scaled) > 0.5).astype(int)\n",
        "print(\"Predicted=%s\" %ynew)"
      ],
      "metadata": {
        "colab": {
          "base_uri": "https://localhost:8080/"
        },
        "id": "CDZFnHoAoPCu",
        "outputId": "17b4fc83-6387-472b-b0e0-9c006dce4f2d"
      },
      "execution_count": 134,
      "outputs": [
        {
          "output_type": "stream",
          "name": "stdout",
          "text": [
            "1/1 [==============================] - 0s 57ms/step\n",
            "Predicted=[[0]]\n"
          ]
        }
      ]
    }
  ],
  "metadata": {
    "kernelspec": {
      "display_name": "base",
      "language": "python",
      "name": "python3"
    },
    "language_info": {
      "codemirror_mode": {
        "name": "ipython",
        "version": 3
      },
      "file_extension": ".py",
      "mimetype": "text/x-python",
      "name": "python",
      "nbconvert_exporter": "python",
      "pygments_lexer": "ipython3",
      "version": "3.9.13"
    },
    "orig_nbformat": 4,
    "colab": {
      "provenance": []
    }
  },
  "nbformat": 4,
  "nbformat_minor": 0
}